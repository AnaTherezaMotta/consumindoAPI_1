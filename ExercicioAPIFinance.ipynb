{
  "nbformat": 4,
  "nbformat_minor": 0,
  "metadata": {
    "colab": {
      "provenance": []
    },
    "kernelspec": {
      "name": "python3",
      "display_name": "Python 3"
    },
    "language_info": {
      "name": "python"
    }
  },
  "cells": [
    {
      "cell_type": "code",
      "execution_count": 9,
      "metadata": {
        "colab": {
          "base_uri": "https://localhost:8080/"
        },
        "id": "PdF1T3R2Lq-b",
        "outputId": "7ba3a653-6d47-4032-edda-9dc94215b857"
      },
      
        }
      ],
      "source": [
        "import requests\n",
        "\n",
        "URL = 'https://api.hgbrasil.com/finance?key=02c3ebfb'\n",
        "resposta = requests.get(URL)\n",
        "dolar = resposta.json()['results']['currencies']['USD']['buy']\n",
        "euro = resposta.json()['results']['currencies']['EUR']['buy']\n",
        "\n",
        "real = float(input('Digite um valor em real:'))\n",
        "usd_dolar = real/dolar\n",
        "eur_euro = real/euro\n",
        "print(f'Dolar: {usd_dolar:.2f} \\n Euro: {eur_euro:.2f}')\n",
        "\n",
        "\n"
      ]
    }
  ]
}
